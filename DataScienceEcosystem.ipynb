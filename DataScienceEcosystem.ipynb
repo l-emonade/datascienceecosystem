{
  "nbformat": 4,
  "nbformat_minor": 0,
  "metadata": {
    "colab": {
      "provenance": []
    },
    "kernelspec": {
      "name": "python3",
      "display_name": "Python 3"
    },
    "language_info": {
      "name": "python"
    }
  },
  "cells": [
    {
      "cell_type": "markdown",
      "source": [
        "#Data Science Tools and Ecosystem\n"
      ],
      "metadata": {
        "id": "btfkLqE4M_WZ"
      }
    },
    {
      "cell_type": "markdown",
      "source": [
        "In this notebook, Data Science Tools and Ecosystem are summarized."
      ],
      "metadata": {
        "id": "QAnlfhobNe2w"
      }
    },
    {
      "cell_type": "markdown",
      "source": [
        "**Objectives:**\n",
        "\n",
        "- List popular languages for Data Science\n",
        "- List popular libraries for Data Science\n",
        "- List open-source tools used in Data Science\n"
      ],
      "metadata": {
        "id": "2XlXmSmAVGXm"
      }
    },
    {
      "cell_type": "markdown",
      "source": [
        "Some of the popular languages that Data Scientists use are:\n",
        "\n",
        "1.   Python\n",
        "2.   R\n",
        "3. Julia\n",
        "\n"
      ],
      "metadata": {
        "id": "haBGAtVrN8Mw"
      }
    },
    {
      "cell_type": "markdown",
      "source": [
        "Some of the commonly used libraries used by Data Scientists include:\n",
        "\n",
        "\n",
        "1.   matplotlib\n",
        "2.   numpy\n",
        "3. pandas\n",
        "\n",
        "| Data Science Tools        |\n",
        "|---------------------------|\n",
        "| Jupyter Notebook           |\n",
        "| RStudio                    |\n",
        "| VSCode            |\n",
        "\n",
        "### Below are a few examples of evaluating arithmetic expressions in Python.\n"
      ],
      "metadata": {
        "id": "JO390ZWuPhRd"
      }
    },
    {
      "cell_type": "code",
      "source": [
        "# This is a simple arithmetic expression to multiply then add integers\n",
        "(3 * 4) + 5\n"
      ],
      "metadata": {
        "colab": {
          "base_uri": "https://localhost:8080/"
        },
        "id": "GtRa8Q9QTrgx",
        "outputId": "c576112f-bc0f-4373-d45f-c1185a1b3610"
      },
      "execution_count": null,
      "outputs": [
        {
          "output_type": "execute_result",
          "data": {
            "text/plain": [
              "17"
            ]
          },
          "metadata": {},
          "execution_count": 3
        }
      ]
    },
    {
      "cell_type": "code",
      "source": [
        "# This will convert 200 minutes to hours by dividing by 60\n",
        "200 / 60\n"
      ],
      "metadata": {
        "colab": {
          "base_uri": "https://localhost:8080/"
        },
        "id": "NX7i2N5cUNDX",
        "outputId": "b8547f2d-0a46-4b07-deb2-14fb572dc05e"
      },
      "execution_count": null,
      "outputs": [
        {
          "output_type": "execute_result",
          "data": {
            "text/plain": [
              "3.3333333333333335"
            ]
          },
          "metadata": {},
          "execution_count": 4
        }
      ]
    },
    {
      "cell_type": "markdown",
      "source": [
        "## Author\n",
        "\n",
        "Meet S\n"
      ],
      "metadata": {
        "id": "1m92CYe6V0-P"
      }
    }
  ]
}